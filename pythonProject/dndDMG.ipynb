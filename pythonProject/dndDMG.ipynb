{
 "cells": [
  {
   "cell_type": "markdown",
   "metadata": {},
   "source": [
    "Project Description:\n",
    "Part of gameplay for Dungeons and Dragons, a roleplaying game, is combat. Each edition has slightly different rules for how this is done, since I play the fifth edition (dnd 5e) my code follows the rules for that game. In essence the player has to roll a d20 to determine if their attack even hits and then roll a different dice to determine the damage depending on the weapon they are using.\n",
    "\n",
    "I have built a total damage calculator for my dnd 5e character, a human thief rogue, named Shadar. The program asks for the character name (since it is potentially able to scale up to different characters) and current level from 1-20 (which affects different stats). One of Shadar's abilities is sneak attack which adds damage to her attack, so I ask if this is triggered. Then it's time to roll for the actual attack! First we have to establish if the hit even lands. In game play this is established by a roll of a dice that goes up to 20 (d20). That score is then compared to the armor class (AC) of the opponent. Since special things can happen on a crit (a roll of 1 or 20 before modifiers) I segmented the code to output an unmodified and a modified roll. Modifications consist of proficiency (which is calculated based on level) and her dexterity modification (which varies depending on player decisions and thus is input by the user). If the character (Shadar) is near an ally she has advantage (gets to roll the d20 twice and take the higher number) and if near a foe she has disadvantage (has to roll twice and take the lower number on the d20). Then the weapon Shadar is using is selected and that damage score plus her dex mod is output. Shadar is a dual wielder, meaning that she can fight with both hands, so this entire process, minus asserting sneak attack, can be repeated twice. There are instances where this is not true so I have segmented the code in such a way that it is possible to only calculate the damage for one attack."
   ]
  },
  {
   "cell_type": "code",
   "execution_count": 1,
   "metadata": {},
   "outputs": [],
   "source": [
    "import string\n",
    "from random import randint\n",
    "import nltk\n",
    "from my_module import my_functions as fn\n",
    "from my_module import test_functions"
   ]
  },
  {
   "cell_type": "code",
   "execution_count": 2,
   "metadata": {},
   "outputs": [
    {
     "name": "stdout",
     "output_type": "stream",
     "text": [
      "Which character are you playing? Hint: Shadar\n",
      "Shadar\n",
      "What is your level?\n",
      "10\n",
      "Is sneak attack triggered?\n",
      "yes\n",
      "[3, 6, 5, 5, 2]\n",
      "21\n",
      "What is your dex mod?\n",
      "3\n",
      "before modifiers your roll is  17\n",
      "after modifiers your roll is 24\n",
      "Do you have advantage? input \"yes\" for advantage, \"no\" for disadvantage, \"none\" for a normal roll\n",
      "yes\n",
      "before modifiers your score is  3\n",
      "before modifiers your max roll was a  17\n",
      "after modifiers your adv roll is  24\n",
      "Did you suceed your to_hit roll?\n",
      "yes\n",
      "What weapons are you using? options are: 'rad sword', 'rapier', 'crossbow', 'curved dagger', 'nec dagger' and 'silver dagger\n",
      "rapier\n",
      "Are you using dual wielding?/ do you need to hit again?\n",
      "no\n",
      "Did your off hand attack hit?\n",
      "no\n",
      "your total damage is 26\n"
     ]
    }
   ],
   "source": [
    "#establish a class for the character\n",
    "class Shadar ():\n",
    "    print('Which character are you playing? Hint: Shadar')\n",
    "    name = input()\n",
    "    \n",
    "    if not (name == 'Shadar'):\n",
    "        raise ('Right now this code only works for the character Shadar. sorry!')\n",
    "    \n",
    "    print('What is your level?')\n",
    "    lvl = input()\n",
    "    lvl= int(float(lvl))\n",
    "    \n",
    "    #dnd5e only has levels from 1-20 so this makes sure lvl meets those requirements\n",
    "    if not isinstance(lvl, int):\n",
    "        raise TypeError('lvl should be of type int')\n",
    "    if not (lvl > 0):\n",
    "        raise ValueError('You must have a level greater than 0')\n",
    "    if not (lvl < 21):\n",
    "        raise ValueError('The highest possible level is 20')\n",
    "    \n",
    "    prof = fn.proficiency(lvl)\n",
    "    sneakysneak = fn.sneak_attack(lvl) \n",
    "    \n",
    "    #dexterity depends on player choices so this has to be input by the user\n",
    "    print('What is your dex mod?')\n",
    "    dex = int(input())\n",
    "    \n",
    "    hit = fn.to_hit(dex, prof)\n",
    "    main_dmg = fn.main_hand_dmg(fn.weapons, dex)\n",
    "    two_weapons = fn.dual_wielding(dex, prof)\n",
    "    off_hand_dmg = fn.dual_dmg(fn.weapons, dex)\n",
    "    \n",
    "    total_dmg = sneakysneak + main_dmg + off_hand_dmg\n",
    "    print('your total damage is', total_dmg)"
   ]
  }
 ],
 "metadata": {
  "kernelspec": {
   "display_name": "Python 3",
   "language": "python",
   "name": "python3"
  },
  "language_info": {
   "codemirror_mode": {
    "name": "ipython",
    "version": 3
   },
   "file_extension": ".py",
   "mimetype": "text/x-python",
   "name": "python",
   "nbconvert_exporter": "python",
   "pygments_lexer": "ipython3",
   "version": "3.6.3"
  }
 },
 "nbformat": 4,
 "nbformat_minor": 2
}
